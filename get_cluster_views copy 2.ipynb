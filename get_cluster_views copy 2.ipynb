{
 "cells": [
  {
   "cell_type": "code",
   "execution_count": 1,
   "metadata": {},
   "outputs": [
    {
     "name": "stdout",
     "output_type": "stream",
     "text": [
      "Jupyter environment detected. Enabling Open3D WebVisualizer.\n",
      "[Open3D INFO] WebRTC GUI backend enabled.\n",
      "[Open3D INFO] WebRTCWindowSystem: HTTP handshake server disabled.\n"
     ]
    }
   ],
   "source": [
    "import os\n",
    "\n",
    "from matplotlib import pyplot as plt\n",
    "from PIL import Image\n",
    "import cv2\n",
    "import numpy as np\n",
    "\n",
    "import sqlite3\n",
    "\n",
    "from skimage.measure import label\n",
    "\n",
    "import open3d as o3d\n",
    "\n",
    "from tqdm import tqdm\n",
    "\n",
    "from utils import *"
   ]
  },
  {
   "cell_type": "code",
   "execution_count": 109,
   "metadata": {},
   "outputs": [],
   "source": [
    "perspective = \"back\"\n",
    "folder_name = \"1\"\n",
    "\n",
    "color_points = np.load(f\"created_{perspective}_apple_points3d.npy\")\n",
    "pts3d = color_points[:,:3]\n",
    "rgb3d = color_points[:,-3:]\n",
    "\n",
    "front_indices = np.load(f\"{perspective}_indices.npy\")\n",
    "\n",
    "with open(f\"./{folder_name}/images.txt\", \"r\") as f:\n",
    "    temp_images = f.readlines()[4:][::2]\n",
    "img_ids = np.array([x.split(\" \")[0] for x in temp_images], dtype=np.int16)\n",
    "poses = np.array([x.split(\" \")[1:8] for x in temp_images], dtype=np.float32)\n",
    "\n",
    "with open(f\"./{folder_name}/cameras.txt\", \"r\") as f:\n",
    "    temp_cameras = f.readlines()[-1]\n",
    "cam_params = np.array(temp_cameras.split(\" \")[-4:], dtype=np.float32)\n",
    "\n",
    "con = sqlite3.connect(\"./database.db\")\n",
    "cur = con.cursor()\n",
    "img_dict = dict()\n",
    "for row in cur.execute(\"SELECT * FROM IMAGES\"):\n",
    "    img_dict[row[0]] = row[1]\n",
    "con.close()"
   ]
  },
  {
   "cell_type": "code",
   "execution_count": 110,
   "metadata": {},
   "outputs": [
    {
     "data": {
      "text/plain": [
       "11419"
      ]
     },
     "execution_count": 110,
     "metadata": {},
     "output_type": "execute_result"
    }
   ],
   "source": [
    "len(pts3d)"
   ]
  },
  {
   "cell_type": "code",
   "execution_count": 111,
   "metadata": {},
   "outputs": [],
   "source": [
    "my_pcd = o3d.t.geometry.PointCloud(pts3d)\n",
    "my_pcd = my_pcd.to_legacy()\n",
    "my_pcd.colors = o3d.cpu.pybind.utility.Vector3dVector(rgb3d)\n",
    "\n",
    "my_pcd = my_pcd.farthest_point_down_sample(num_samples=len(pts3d)//10)\n",
    "down_pts3d = np.asarray(my_pcd.points)"
   ]
  },
  {
   "cell_type": "code",
   "execution_count": 112,
   "metadata": {},
   "outputs": [],
   "source": [
    "# Read .ply file\n",
    "# input_file = f\"{perspective}.ply\"\n",
    "# front_pcd = o3d.io.read_point_cloud(input_file) # Read the point cloud\n",
    "# front_pts3d = np.asarray(front_pcd.points)\n",
    "# front_rgb3d = np.asarray(front_pcd.colors)\n",
    "\n",
    "# input_file = f\"{perspective}_tree_row.ply\"\n",
    "# main_pcd = o3d.io.read_point_cloud(input_file) # Read the point cloud\n",
    "# main_pts3d = np.asarray(front_pcd.points)\n",
    "# main_rgb3d = np.asarray(front_pcd.colors)\n",
    "\n",
    "filenames = [img_dict[idx] for idx in img_ids]\n",
    "masks_path = \"./created_masks/\"\n",
    "images_path = \"./images/\"\n",
    "maps = Maps(filenames, masks_path, images_path)"
   ]
  },
  {
   "cell_type": "code",
   "execution_count": 113,
   "metadata": {},
   "outputs": [
    {
     "name": "stderr",
     "output_type": "stream",
     "text": [
      "100%|██████████| 40/40 [00:10<00:00,  3.80it/s]"
     ]
    },
    {
     "name": "stdout",
     "output_type": "stream",
     "text": [
      "number of connected groups: 949\n"
     ]
    },
    {
     "name": "stderr",
     "output_type": "stream",
     "text": [
      "\n"
     ]
    }
   ],
   "source": [
    "connected_points = []\n",
    "for i in tqdm(range(len(maps))):\n",
    "    mask,_ = maps[i]\n",
    "    extrinsic = get_extrinsic_matrix(poses[i])\n",
    "    K = get_K_matrix(cam_params)\n",
    "\n",
    "    mask_labels = label(label_image=mask, return_num=False, connectivity=2)\n",
    "    apple_points_indices_groups = get_3d_apple_points_from_multiple_masks(pts3d, extrinsic, K, [mask_labels==j for j in range(1, mask_labels.max()+1)])\n",
    "    for group in apple_points_indices_groups:\n",
    "        connected_points.append(group)\n",
    "print(f\"number of connected groups: {len(connected_points)}\")"
   ]
  },
  {
   "cell_type": "code",
   "execution_count": 115,
   "metadata": {},
   "outputs": [
    {
     "data": {
      "image/png": "[encoded data removed]",
      "text/plain": [
       "<Figure size 432x288 with 1 Axes>"
      ]
     },
     "metadata": {
      "needs_background": "light"
     },
     "output_type": "display_data"
    },
    {
     "name": "stdout",
     "output_type": "stream",
     "text": [
      "[0.005      0.01526316 0.02552632 0.03578947 0.04605263 0.05631579\n",
      " 0.06657895 0.07684211 0.08710526 0.09736842 0.10763158 0.11789474\n",
      " 0.12815789 0.13842105 0.14868421 0.15894737 0.16921053 0.17947368\n",
      " 0.18973684 0.2       ]\n"
     ]
    }
   ],
   "source": [
    "from sklearn.cluster import DBSCAN, OPTICS\n",
    "from sklearn.preprocessing import StandardScaler\n",
    "\n",
    "num_clusters = []\n",
    "eps_vals = np.linspace(0.005, 0.2, 20)\n",
    "for eps in eps_vals:\n",
    "    db_model = DBSCAN(eps=eps, min_samples=5)\n",
    "    labels = db_model.fit_predict(down_pts3d)\n",
    "    num_clusters.append(labels.max())\n",
    "plt.plot(eps_vals, num_clusters)\n",
    "plt.show()\n",
    "print(eps_vals)"
   ]
  },
  {
   "cell_type": "code",
   "execution_count": 116,
   "metadata": {},
   "outputs": [
    {
     "name": "stdout",
     "output_type": "stream",
     "text": [
      "number of db clusters: 155\n"
     ]
    }
   ],
   "source": [
    "db_model = DBSCAN(eps=0.1, min_samples=2)\n",
    "labels = db_model.fit_predict(pts3d)\n",
    "\n",
    "db_clusters = []\n",
    "for i in range(labels.max()):\n",
    "    curr_indices = np.where(labels==i)[0]\n",
    "    if len(curr_indices) >= 2:\n",
    "        db_clusters.append(curr_indices)\n",
    "\n",
    "print(f\"number of db clusters: {len(db_clusters)}\")"
   ]
  },
  {
   "cell_type": "code",
   "execution_count": 117,
   "metadata": {},
   "outputs": [],
   "source": [
    "all_connections = connected_points + db_clusters\n",
    "iset = set([frozenset(s) for s in all_connections if len(s)>0])  # Convert to a set of sets\n",
    "big_groups = []\n",
    "while(iset):                  # While there are sets left to process:\n",
    "    nset = set(iset.pop())      # Pop a new set\n",
    "    check = len(iset)           # Does iset contain more sets\n",
    "    while check:                # Until no more sets to check:\n",
    "        check = False\n",
    "        for s in iset.copy():       # For each other set:\n",
    "            if nset.intersection(s):  # if they intersect:\n",
    "                check = True            # Must recheck previous sets\n",
    "                iset.remove(s)          # Remove it from remaining sets\n",
    "                nset.update(s)          # Add it to the current set\n",
    "    big_groups.append(tuple(nset))  # Convert back to a list of tuples"
   ]
  },
  {
   "cell_type": "code",
   "execution_count": 118,
   "metadata": {},
   "outputs": [
    {
     "name": "stdout",
     "output_type": "stream",
     "text": [
      "number of clusters: 75\n"
     ]
    }
   ],
   "source": [
    "clusters = []\n",
    "for group in big_groups:\n",
    "    num_points = len(group)\n",
    "    if num_points < 5:\n",
    "        continue\n",
    "\n",
    "    clusters.append(pts3d[np.array(group)])\n",
    "print(f\"number of clusters: {len(clusters)}\")"
   ]
  },
  {
   "cell_type": "code",
   "execution_count": 119,
   "metadata": {},
   "outputs": [
    {
     "data": {
      "text/plain": [
       "True"
      ]
     },
     "execution_count": 119,
     "metadata": {},
     "output_type": "execute_result"
    }
   ],
   "source": [
    "cluster_pts3d = np.concatenate(clusters, axis=0)\n",
    "cluster_rgb3d = np.zeros_like(cluster_pts3d)\n",
    "k = 0\n",
    "for n in [len(cluster) for cluster in clusters]:\n",
    "    rgb = np.random.rand(3)\n",
    "    cluster_rgb3d[k:k+n] += rgb\n",
    "    k += n\n",
    "\n",
    "\n",
    "cluster_pcd = o3d.t.geometry.PointCloud(cluster_pts3d)\n",
    "cluster_pcd = cluster_pcd.to_legacy()\n",
    "cluster_pcd.colors = o3d.cpu.pybind.utility.Vector3dVector(cluster_rgb3d)\n",
    "o3d.io.write_point_cloud(filename=f\"{perspective}_combined_clusters.ply\", pointcloud=cluster_pcd)"
   ]
  },
  {
   "cell_type": "code",
   "execution_count": 120,
   "metadata": {},
   "outputs": [
    {
     "name": "stderr",
     "output_type": "stream",
     "text": [
      "100%|██████████| 75/75 [00:00<00:00, 349.22it/s]\n"
     ]
    }
   ],
   "source": [
    "from tqdm import tqdm\n",
    "\n",
    "cluster_images = []\n",
    "\n",
    "# for each cluster\n",
    "for cluster in tqdm(clusters):\n",
    "    # calculate position of cluster in each pose\n",
    "    cluster_instances = []\n",
    "    for i in range(len(filenames)):\n",
    "        extrinsic = get_extrinsic_matrix(poses[i])\n",
    "        K = get_K_matrix(cam_params)\n",
    "\n",
    "        cam_pts = get_camera_view(cluster, extrinsic)\n",
    "        pixel_pts = get_image_view(cam_pts, K)\n",
    "        inliers = get_in_view_points(pixel_pts)\n",
    "\n",
    "        if inliers.any():\n",
    "            has_inlier = True\n",
    "            rmin, cmin = pixel_pts[:,:2].min(axis=0)\n",
    "            rmax, cmax = pixel_pts[:,:2].max(axis=0)\n",
    "            bbox = np.int32(np.round(np.array([rmin, cmin, rmax, cmax])))\n",
    "            bbox[:2] = np.maximum(0, bbox[:2])\n",
    "            bbox[2] = min(720, bbox[2])\n",
    "            bbox[3] = min(1280, bbox[3])\n",
    "\n",
    "            area = (bbox[2]-bbox[0]) * (bbox[3]-bbox[1])\n",
    "            if area == 0:\n",
    "                continue\n",
    "\n",
    "            filename = filenames[i]\n",
    "\n",
    "            cluster_instances.append([filename, bbox, area])\n",
    "    \n",
    "    cluster_images.append(cluster_instances)\n",
    "\n",
    "cluster_images = [c for c in cluster_images if len(c) > 0] # remove clusters with no points (because have no area)"
   ]
  },
  {
   "cell_type": "code",
   "execution_count": 121,
   "metadata": {},
   "outputs": [
    {
     "data": {
      "text/plain": [
       "75"
      ]
     },
     "execution_count": 121,
     "metadata": {},
     "output_type": "execute_result"
    }
   ],
   "source": [
    "len(cluster_images)"
   ]
  },
  {
   "cell_type": "code",
   "execution_count": 122,
   "metadata": {},
   "outputs": [
    {
     "name": "stdout",
     "output_type": "stream",
     "text": [
      "Loaded updated model\n"
     ]
    }
   ],
   "source": [
    "import torch\n",
    "from torchvision.models import resnet50, ResNet50_Weights\n",
    "device = torch.device(\"cuda\")\n",
    "\n",
    "# Using pretrained weights:\n",
    "weights = ResNet50_Weights.IMAGENET1K_V2\n",
    "model = resnet50(weights=weights).to(device)\n",
    "model.fc = torch.nn.Linear(2048, 7, bias=True).to(device)\n",
    "\n",
    "model.load_state_dict(torch.load(\"resnet.pt\"))\n",
    "model.eval()\n",
    "\n",
    "print(\"Loaded updated model\")"
   ]
  },
  {
   "cell_type": "code",
   "execution_count": 123,
   "metadata": {},
   "outputs": [
    {
     "name": "stderr",
     "output_type": "stream",
     "text": [
      "100%|██████████| 75/75 [00:00<00:00, 110.13it/s]\n",
      "100%|██████████| 75/75 [00:00<00:00, 119.35it/s]"
     ]
    },
    {
     "name": "stdout",
     "output_type": "stream",
     "text": [
      "total: 118\n"
     ]
    },
    {
     "name": "stderr",
     "output_type": "stream",
     "text": [
      "\n"
     ]
    }
   ],
   "source": [
    "from torchvision.io import read_image\n",
    "from torchvision import transforms as T\n",
    "\n",
    "transform = T.Compose([\n",
    "    T.Resize((224,224), antialias=True),\n",
    "    T.Normalize(mean=[0.485, 0.456, 0.406], std=[0.229, 0.224, 0.225]),\n",
    "])\n",
    "\n",
    "loaded_images = dict()\n",
    "loaded_masks = dict()\n",
    "for cluster in tqdm(cluster_images):\n",
    "    for img_name, _, _ in cluster:\n",
    "        if not img_name in loaded_images:\n",
    "            img_path = os.path.join(images_path, img_name)\n",
    "            image = read_image(img_path) / 255.0\n",
    "            loaded_images[img_name] = image\n",
    "\n",
    "            mask_path = os.path.join(masks_path, img_name)\n",
    "            mask = read_image(mask_path)\n",
    "            loaded_masks[img_name] = mask\n",
    "\n",
    "per_cluster_counts = []\n",
    "biggest_cluster_images = []\n",
    "for cluster in tqdm(cluster_images):\n",
    "    images = []\n",
    "    areas = []\n",
    "    for img_name, bbox, area in cluster:\n",
    "\n",
    "        mask = loaded_masks[img_name]\n",
    "        mask = mask[:,bbox[1]:bbox[3], bbox[0]:bbox[2]]\n",
    "        mask_area = mask.sum().item()\n",
    "\n",
    "        if mask_area == 0:\n",
    "            continue\n",
    "\n",
    "        # find bbox of mask within cluster's bbox\n",
    "        rows = np.any(mask[0].numpy(), axis=1)\n",
    "        cols = np.any(mask[0].numpy(), axis=0)\n",
    "        rmin, rmax = np.where(rows)[0][[0, -1]]\n",
    "        cmin, cmax = np.where(cols)[0][[0, -1]]\n",
    "\n",
    "        image = loaded_images[img_name]\n",
    "        image = image[:,bbox[1]+rmin:bbox[1]+rmax+1, bbox[0]+cmin:bbox[0]+cmax+1]\n",
    "        image = transform(image.unsqueeze(0))\n",
    "\n",
    "        images.append(image)\n",
    "        areas.append(mask_area)\n",
    "\n",
    "    if len(areas) == 0 or max(areas) == 0:\n",
    "        per_cluster_counts.append(0)\n",
    "        biggest_cluster_images.append(None)\n",
    "        continue\n",
    "\n",
    "    biggest_images = torch.cat([images[i] for i in np.argsort(areas)[-3:]])\n",
    "    biggest_cluster_images.append(biggest_images.permute(0,2,3,1).numpy())\n",
    "\n",
    "    with torch.no_grad():\n",
    "        pred = model(biggest_images.to(device))\n",
    "        counts = pred.argmax(dim=1)\n",
    "        count = torch.median(counts).item()\n",
    "        per_cluster_counts.append(count)\n",
    "\n",
    "total = sum(per_cluster_counts)\n",
    "print(f\"total: {total}\")"
   ]
  },
  {
   "cell_type": "markdown",
   "metadata": {},
   "source": [
    "front: 192 (126 groups)\n",
    "back: 118 (75 groups)\n",
    "total: 310"
   ]
  },
  {
   "cell_type": "code",
   "execution_count": 124,
   "metadata": {},
   "outputs": [
    {
     "data": {
      "text/plain": [
       "(array([ 3., 52., 10.,  1.,  3.,  5.,  1.]),\n",
       " array([0.        , 0.85714286, 1.71428571, 2.57142857, 3.42857143,\n",
       "        4.28571429, 5.14285714, 6.        ]),\n",
       " <BarContainer object of 7 artists>)"
      ]
     },
     "execution_count": 124,
     "metadata": {},
     "output_type": "execute_result"
    },
    {
     "data": {
      "image/png": "[encoded data removed]",
      "text/plain": [
       "<Figure size 432x288 with 1 Axes>"
      ]
     },
     "metadata": {
      "needs_background": "light"
     },
     "output_type": "display_data"
    }
   ],
   "source": [
    "plt.hist(per_cluster_counts, bins=7)"
   ]
  },
  {
   "cell_type": "code",
   "execution_count": 125,
   "metadata": {},
   "outputs": [
    {
     "name": "stdout",
     "output_type": "stream",
     "text": [
      "number of views: 9\n",
      "predicted count: 1\n"
     ]
    },
    {
     "ename": "IndexError",
     "evalue": "index 2 is out of bounds for axis 0 with size 2",
     "output_type": "error",
     "traceback": [
      "\u001b[1;31m---------------------------------------------------------------------------\u001b[0m",
      "\u001b[1;31mIndexError\u001b[0m                                Traceback (most recent call last)",
      "\u001b[1;32m~\\AppData\\Local\\Temp/ipykernel_1484/1125911359.py\u001b[0m in \u001b[0;36m<module>\u001b[1;34m\u001b[0m\n\u001b[0;32m      9\u001b[0m \u001b[0mprint\u001b[0m\u001b[1;33m(\u001b[0m\u001b[1;34mf\"predicted count: {per_cluster_counts[cluster_idx]}\"\u001b[0m\u001b[1;33m)\u001b[0m\u001b[1;33m\u001b[0m\u001b[1;33m\u001b[0m\u001b[0m\n\u001b[0;32m     10\u001b[0m \u001b[1;33m\u001b[0m\u001b[0m\n\u001b[1;32m---> 11\u001b[1;33m \u001b[0mplt\u001b[0m\u001b[1;33m.\u001b[0m\u001b[0mimshow\u001b[0m\u001b[1;33m(\u001b[0m\u001b[0mbiggest_cluster_images\u001b[0m\u001b[1;33m[\u001b[0m\u001b[0mcluster_idx\u001b[0m\u001b[1;33m]\u001b[0m\u001b[1;33m[\u001b[0m\u001b[0mimg_idx\u001b[0m\u001b[1;33m]\u001b[0m\u001b[1;33m/\u001b[0m\u001b[1;36m4\u001b[0m\u001b[1;33m+\u001b[0m\u001b[1;36m0.4\u001b[0m\u001b[1;33m)\u001b[0m\u001b[1;33m\u001b[0m\u001b[1;33m\u001b[0m\u001b[0m\n\u001b[0m\u001b[0;32m     12\u001b[0m \u001b[0mplt\u001b[0m\u001b[1;33m.\u001b[0m\u001b[0mshow\u001b[0m\u001b[1;33m(\u001b[0m\u001b[1;33m)\u001b[0m\u001b[1;33m\u001b[0m\u001b[1;33m\u001b[0m\u001b[0m\n",
      "\u001b[1;31mIndexError\u001b[0m: index 2 is out of bounds for axis 0 with size 2"
     ]
    }
   ],
   "source": [
    "img_idx = 2\n",
    "cluster_idx = 3\n",
    "bbox = cluster_images[cluster_idx][img_idx][1]\n",
    "img_path = os.path.join(images_path, cluster_images[cluster_idx][img_idx][0])\n",
    "image = read_image(img_path) / 255.0\n",
    "box_image = image[:,bbox[1]:bbox[3], bbox[0]:bbox[2]]\n",
    "\n",
    "print(f\"number of views: {len(cluster_images[cluster_idx])}\")\n",
    "print(f\"predicted count: {per_cluster_counts[cluster_idx]}\")\n",
    "\n",
    "plt.imshow(biggest_cluster_images[cluster_idx][img_idx]/4+0.4)\n",
    "plt.show()"
   ]
  }
 ],
 "metadata": {
  "kernelspec": {
   "display_name": "Python 3",
   "language": "python",
   "name": "python3"
  },
  "language_info": {
   "codemirror_mode": {
    "name": "ipython",
    "version": 3
   },
   "file_extension": ".py",
   "mimetype": "text/x-python",
   "name": "python",
   "nbconvert_exporter": "python",
   "pygments_lexer": "ipython3",
   "version": "3.9.7"
  }
 },
 "nbformat": 4,
 "nbformat_minor": 2
}
