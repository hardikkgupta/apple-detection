{
 "cells": [
  {
   "cell_type": "code",
   "execution_count": 1,
   "metadata": {},
   "outputs": [],
   "source": [
    "# import numpy as np\n",
    "# import open3d as o3d\n",
    "\n",
    "# def main():\n",
    "#     pts = np.random.randint(0, 100, (100, 3))\n",
    "\n",
    "#     # whether to write in binary or text format\n",
    "#     write_text = True\n",
    "\n",
    "#     # use open3d\n",
    "#     use_o3d(pts, write_text)\n",
    "\n",
    "\n",
    "# def use_o3d(pts, write_text):\n",
    "#     pcd = o3d.geometry.PointCloud()\n",
    "\n",
    "#     # the method Vector3dVector() will convert numpy array of shape (n, 3) to Open3D format.\n",
    "#     # see http://www.open3d.org/docs/release/python_api/open3d.utility.Vector3dVector.html#open3d.utility.Vector3dVector\n",
    "#     pcd.points = o3d.utility.Vector3dVector(pts)\n",
    "\n",
    "#     # http://www.open3d.org/docs/release/python_api/open3d.io.write_point_cloud.html#open3d.io.write_point_cloud\n",
    "#     o3d.io.write_point_cloud(\"my_pts.ply\", pcd, write_ascii=write_text)\n",
    "\n",
    "#     # read ply file\n",
    "#     pcd = o3d.io.read_point_cloud('my_pts.ply')\n",
    "\n",
    "#     # visualize\n",
    "#     # o3d.visualization.draw_geometries([pcd])"
   ]
  },
  {
   "cell_type": "code",
   "execution_count": 2,
   "metadata": {},
   "outputs": [
    {
     "name": "stdout",
     "output_type": "stream",
     "text": [
      "Jupyter environment detected. Enabling Open3D WebVisualizer.\n",
      "[Open3D INFO] WebRTC GUI backend enabled.\n",
      "[Open3D INFO] WebRTCWindowSystem: HTTP handshake server disabled.\n"
     ]
    }
   ],
   "source": [
    "import numpy as np\n",
    "import open3d as o3d\n",
    "\n",
    "from utils import find_ground_plane"
   ]
  },
  {
   "cell_type": "code",
   "execution_count": 3,
   "metadata": {},
   "outputs": [],
   "source": [
    "pcd = o3d.io.read_point_cloud('./dense/fused.ply')\n",
    "colors = np.asarray(pcd.colors)\n",
    "points = np.asarray(pcd.points)"
   ]
  },
  {
   "cell_type": "code",
   "execution_count": 4,
   "metadata": {},
   "outputs": [],
   "source": [
    "plane, inliers, num_inliers = find_ground_plane(points, max_iters=1000, t=0.5)"
   ]
  },
  {
   "cell_type": "code",
   "execution_count": 6,
   "metadata": {},
   "outputs": [],
   "source": [
    "selected_point_cloud = pcd.select_by_index(inliers)"
   ]
  },
  {
   "cell_type": "code",
   "execution_count": 8,
   "metadata": {},
   "outputs": [
    {
     "data": {
      "text/plain": [
       "True"
      ]
     },
     "execution_count": 8,
     "metadata": {},
     "output_type": "execute_result"
    }
   ],
   "source": [
    "o3d.io.write_point_cloud(\"ground_points.ply\", selected_point_cloud)"
   ]
  },
  {
   "cell_type": "code",
   "execution_count": 7,
   "metadata": {},
   "outputs": [],
   "source": [
    "o3d.visualization.draw_geometries([selected_point_cloud])"
   ]
  }
 ],
 "metadata": {
  "kernelspec": {
   "display_name": "Python 3",
   "language": "python",
   "name": "python3"
  },
  "language_info": {
   "codemirror_mode": {
    "name": "ipython",
    "version": 3
   },
   "file_extension": ".py",
   "mimetype": "text/x-python",
   "name": "python",
   "nbconvert_exporter": "python",
   "pygments_lexer": "ipython3",
   "version": "3.9.7"
  }
 },
 "nbformat": 4,
 "nbformat_minor": 2
}
